{
 "cells": [
  {
   "cell_type": "markdown",
   "metadata": {
    "id": "yCzOOOpUPSWy"
   },
   "source": [
    "### Imports\n"
   ]
  },
  {
   "cell_type": "code",
   "execution_count": 46,
   "metadata": {
    "colab": {
     "base_uri": "https://localhost:8080/"
    },
    "id": "VIjxIx3w7QIq",
    "outputId": "4cdd841f-17ac-4e1d-b33e-778134400a89"
   },
   "outputs": [],
   "source": [
    "import io\n",
    "import csv\n",
    "import urllib\n",
    "import urllib.request\n",
    "import urllib.parse\n",
    "import os\n",
    "import pandas as pd\n",
    "import numpy as np\n",
    "import json\n",
    "import geojson\n",
    "from dotenv import load_dotenv\n",
    "\n",
    "#!pip install colab_env\n",
    "#import colab_env"
   ]
  },
  {
   "cell_type": "code",
   "execution_count": 47,
   "metadata": {},
   "outputs": [],
   "source": [
    "#KEY = os.getenv('KEY')"
   ]
  },
  {
   "cell_type": "code",
   "execution_count": 48,
   "metadata": {},
   "outputs": [],
   "source": [
    "env_path = '.\\\\vars.env'\n",
    "filepath_list = ['374030-wg84.geojson', '273460-wg84.geojson', '374031-wg84.geojson',\n",
    "                 '374032-wg84.geojson', '376280-wg84.geojson'] \n",
    "load_dotenv(env_path)\n",
    "KEY = os.getenv('KEY')"
   ]
  },
  {
   "cell_type": "markdown",
   "metadata": {
    "id": "UzpoNBGxl11j"
   },
   "source": [
    "### Import Streetlight Data"
   ]
  },
  {
   "cell_type": "code",
   "execution_count": 49,
   "metadata": {
    "colab": {
     "base_uri": "https://localhost:8080/",
     "height": 38,
     "resources": {
      "http://localhost:8080/nbextensions/google.colab/files.js": {
       "data": "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",
       "headers": [
        [
         "content-type",
         "application/javascript"
        ]
       ],
       "ok": true,
       "status": 200,
       "status_text": ""
      }
     }
    },
    "id": "5FRZUNJ3RlbL",
    "outputId": "edfaafca-701f-48c2-bad0-f693c2b72c2d"
   },
   "outputs": [],
   "source": [
    "#from google.colab import files\n",
    "#uploaded = files.upload()"
   ]
  },
  {
   "cell_type": "code",
   "execution_count": 50,
   "metadata": {},
   "outputs": [],
   "source": [
    "def load_geojson(filepath):\n",
    "    with open(filepath) as f:\n",
    "        gj = geojson.load(f)\n",
    "    return gj['features']"
   ]
  },
  {
   "cell_type": "code",
   "execution_count": 51,
   "metadata": {},
   "outputs": [],
   "source": [
    "def geojson_getAll(filepath_list):\n",
    "    geojson_list = []\n",
    "    for filepath in filepath_list:\n",
    "        loaded_json = load_geojson(filepath)\n",
    "        for geojson in loaded_json:\n",
    "            geojson_list.append(geojson)\n",
    "    return geojson_list"
   ]
  },
  {
   "cell_type": "code",
   "execution_count": 52,
   "metadata": {},
   "outputs": [],
   "source": [
    "gj = geojson_getAll(filepath_list)"
   ]
  },
  {
   "cell_type": "code",
   "execution_count": 53,
   "metadata": {},
   "outputs": [
    {
     "data": {
      "text/plain": [
       "(3788, 45)"
      ]
     },
     "execution_count": 53,
     "metadata": {},
     "output_type": "execute_result"
    }
   ],
   "source": [
    "features_df = pd.json_normalize(gj)\n",
    "features_df.shape"
   ]
  },
  {
   "cell_type": "code",
   "execution_count": 54,
   "metadata": {},
   "outputs": [
    {
     "data": {
      "text/html": [
       "<div>\n",
       "<style scoped>\n",
       "    .dataframe tbody tr th:only-of-type {\n",
       "        vertical-align: middle;\n",
       "    }\n",
       "\n",
       "    .dataframe tbody tr th {\n",
       "        vertical-align: top;\n",
       "    }\n",
       "\n",
       "    .dataframe thead th {\n",
       "        text-align: right;\n",
       "    }\n",
       "</style>\n",
       "<table border=\"1\" class=\"dataframe\">\n",
       "  <thead>\n",
       "    <tr style=\"text-align: right;\">\n",
       "      <th></th>\n",
       "      <th>type</th>\n",
       "      <th>geometry.type</th>\n",
       "      <th>geometry.coordinates</th>\n",
       "      <th>properties.SUBTYPECD</th>\n",
       "      <th>properties.GRID_ADDRE</th>\n",
       "      <th>properties.WATTS</th>\n",
       "      <th>properties.FIXTURE_ST</th>\n",
       "      <th>properties.DECAL_COLO</th>\n",
       "      <th>properties.DECAL_NUMB</th>\n",
       "      <th>properties.LAMP_CD</th>\n",
       "      <th>...</th>\n",
       "      <th>properties.NONSTAND_1</th>\n",
       "      <th>properties.STREETLIGH</th>\n",
       "      <th>properties.PREMISE_ID</th>\n",
       "      <th>properties.ISWATCHLIG</th>\n",
       "      <th>properties.INSPECTION</th>\n",
       "      <th>properties.BASIC_PREM</th>\n",
       "      <th>properties.CUID</th>\n",
       "      <th>properties.PATTERN</th>\n",
       "      <th>properties.COLOR_TEMP</th>\n",
       "      <th>properties.BASE_COLOR</th>\n",
       "    </tr>\n",
       "  </thead>\n",
       "  <tbody>\n",
       "    <tr>\n",
       "      <th>0</th>\n",
       "      <td>Feature</td>\n",
       "      <td>Point</td>\n",
       "      <td>[-78.500067, 38.060712]</td>\n",
       "      <td>1</td>\n",
       "      <td>F2326XN8900</td>\n",
       "      <td>100</td>\n",
       "      <td>ENCL</td>\n",
       "      <td>YLO</td>\n",
       "      <td>10</td>\n",
       "      <td>HPS</td>\n",
       "      <td>...</td>\n",
       "      <td>None</td>\n",
       "      <td>None</td>\n",
       "      <td>0</td>\n",
       "      <td>None</td>\n",
       "      <td>None</td>\n",
       "      <td>None</td>\n",
       "      <td>None</td>\n",
       "      <td>None</td>\n",
       "      <td>None</td>\n",
       "      <td>None</td>\n",
       "    </tr>\n",
       "    <tr>\n",
       "      <th>1</th>\n",
       "      <td>Feature</td>\n",
       "      <td>Point</td>\n",
       "      <td>[-78.494218, 38.037517]</td>\n",
       "      <td>1</td>\n",
       "      <td>G0025DM2000</td>\n",
       "      <td>100</td>\n",
       "      <td>ENCL</td>\n",
       "      <td>YLO</td>\n",
       "      <td>10</td>\n",
       "      <td>HPS</td>\n",
       "      <td>...</td>\n",
       "      <td>None</td>\n",
       "      <td>None</td>\n",
       "      <td>0</td>\n",
       "      <td>None</td>\n",
       "      <td>None</td>\n",
       "      <td>None</td>\n",
       "      <td>None</td>\n",
       "      <td>None</td>\n",
       "      <td>None</td>\n",
       "      <td>None</td>\n",
       "    </tr>\n",
       "    <tr>\n",
       "      <th>2</th>\n",
       "      <td>Feature</td>\n",
       "      <td>Point</td>\n",
       "      <td>[-78.488514, 38.034276]</td>\n",
       "      <td>1</td>\n",
       "      <td>G0025GJ4600</td>\n",
       "      <td>150</td>\n",
       "      <td>ENCL</td>\n",
       "      <td>YLO</td>\n",
       "      <td>15</td>\n",
       "      <td>HPS</td>\n",
       "      <td>...</td>\n",
       "      <td>None</td>\n",
       "      <td>None</td>\n",
       "      <td>0</td>\n",
       "      <td>None</td>\n",
       "      <td>None</td>\n",
       "      <td>None</td>\n",
       "      <td>None</td>\n",
       "      <td>None</td>\n",
       "      <td>None</td>\n",
       "      <td>None</td>\n",
       "    </tr>\n",
       "    <tr>\n",
       "      <th>3</th>\n",
       "      <td>Feature</td>\n",
       "      <td>Point</td>\n",
       "      <td>[-78.49317, 38.04372]</td>\n",
       "      <td>4</td>\n",
       "      <td>G0026DB8400</td>\n",
       "      <td>175</td>\n",
       "      <td>ENCL</td>\n",
       "      <td>LTBL</td>\n",
       "      <td>17</td>\n",
       "      <td>MV</td>\n",
       "      <td>...</td>\n",
       "      <td>None</td>\n",
       "      <td>None</td>\n",
       "      <td>0</td>\n",
       "      <td>None</td>\n",
       "      <td>None</td>\n",
       "      <td>None</td>\n",
       "      <td>None</td>\n",
       "      <td>None</td>\n",
       "      <td>None</td>\n",
       "      <td>None</td>\n",
       "    </tr>\n",
       "    <tr>\n",
       "      <th>4</th>\n",
       "      <td>Feature</td>\n",
       "      <td>Point</td>\n",
       "      <td>[-78.477127, 38.031177]</td>\n",
       "      <td>4</td>\n",
       "      <td>G0025MH9400</td>\n",
       "      <td>250</td>\n",
       "      <td>ENCL</td>\n",
       "      <td>LTBL</td>\n",
       "      <td>25</td>\n",
       "      <td>MV</td>\n",
       "      <td>...</td>\n",
       "      <td>None</td>\n",
       "      <td>None</td>\n",
       "      <td>0</td>\n",
       "      <td>None</td>\n",
       "      <td>None</td>\n",
       "      <td>None</td>\n",
       "      <td>None</td>\n",
       "      <td>None</td>\n",
       "      <td>None</td>\n",
       "      <td>None</td>\n",
       "    </tr>\n",
       "  </tbody>\n",
       "</table>\n",
       "<p>5 rows × 45 columns</p>\n",
       "</div>"
      ],
      "text/plain": [
       "      type geometry.type     geometry.coordinates  properties.SUBTYPECD  \\\n",
       "0  Feature         Point  [-78.500067, 38.060712]                     1   \n",
       "1  Feature         Point  [-78.494218, 38.037517]                     1   \n",
       "2  Feature         Point  [-78.488514, 38.034276]                     1   \n",
       "3  Feature         Point    [-78.49317, 38.04372]                     4   \n",
       "4  Feature         Point  [-78.477127, 38.031177]                     4   \n",
       "\n",
       "  properties.GRID_ADDRE  properties.WATTS properties.FIXTURE_ST  \\\n",
       "0           F2326XN8900               100                  ENCL   \n",
       "1           G0025DM2000               100                  ENCL   \n",
       "2           G0025GJ4600               150                  ENCL   \n",
       "3           G0026DB8400               175                  ENCL   \n",
       "4           G0025MH9400               250                  ENCL   \n",
       "\n",
       "  properties.DECAL_COLO properties.DECAL_NUMB properties.LAMP_CD  ...  \\\n",
       "0                   YLO                    10                HPS  ...   \n",
       "1                   YLO                    10                HPS  ...   \n",
       "2                   YLO                    15                HPS  ...   \n",
       "3                  LTBL                    17                 MV  ...   \n",
       "4                  LTBL                    25                 MV  ...   \n",
       "\n",
       "  properties.NONSTAND_1  properties.STREETLIGH properties.PREMISE_ID  \\\n",
       "0                  None                   None                     0   \n",
       "1                  None                   None                     0   \n",
       "2                  None                   None                     0   \n",
       "3                  None                   None                     0   \n",
       "4                  None                   None                     0   \n",
       "\n",
       "  properties.ISWATCHLIG properties.INSPECTION properties.BASIC_PREM  \\\n",
       "0                  None                  None                  None   \n",
       "1                  None                  None                  None   \n",
       "2                  None                  None                  None   \n",
       "3                  None                  None                  None   \n",
       "4                  None                  None                  None   \n",
       "\n",
       "   properties.CUID properties.PATTERN properties.COLOR_TEMP  \\\n",
       "0             None               None                  None   \n",
       "1             None               None                  None   \n",
       "2             None               None                  None   \n",
       "3             None               None                  None   \n",
       "4             None               None                  None   \n",
       "\n",
       "  properties.BASE_COLOR  \n",
       "0                  None  \n",
       "1                  None  \n",
       "2                  None  \n",
       "3                  None  \n",
       "4                  None  \n",
       "\n",
       "[5 rows x 45 columns]"
      ]
     },
     "execution_count": 54,
     "metadata": {},
     "output_type": "execute_result"
    }
   ],
   "source": [
    "features_df.head()"
   ]
  },
  {
   "cell_type": "code",
   "execution_count": 55,
   "metadata": {},
   "outputs": [
    {
     "data": {
      "text/html": [
       "<div>\n",
       "<style scoped>\n",
       "    .dataframe tbody tr th:only-of-type {\n",
       "        vertical-align: middle;\n",
       "    }\n",
       "\n",
       "    .dataframe tbody tr th {\n",
       "        vertical-align: top;\n",
       "    }\n",
       "\n",
       "    .dataframe thead th {\n",
       "        text-align: right;\n",
       "    }\n",
       "</style>\n",
       "<table border=\"1\" class=\"dataframe\">\n",
       "  <thead>\n",
       "    <tr style=\"text-align: right;\">\n",
       "      <th></th>\n",
       "      <th>type</th>\n",
       "      <th>geometry.type</th>\n",
       "      <th>geometry.coordinates</th>\n",
       "      <th>properties.SUBTYPECD</th>\n",
       "      <th>properties.GRID_ADDRE</th>\n",
       "      <th>properties.WATTS</th>\n",
       "      <th>properties.FIXTURE_ST</th>\n",
       "      <th>properties.DECAL_COLO</th>\n",
       "      <th>properties.DECAL_NUMB</th>\n",
       "      <th>properties.LAMP_CD</th>\n",
       "      <th>...</th>\n",
       "      <th>properties.NONSTAND_1</th>\n",
       "      <th>properties.STREETLIGH</th>\n",
       "      <th>properties.PREMISE_ID</th>\n",
       "      <th>properties.ISWATCHLIG</th>\n",
       "      <th>properties.INSPECTION</th>\n",
       "      <th>properties.BASIC_PREM</th>\n",
       "      <th>properties.CUID</th>\n",
       "      <th>properties.PATTERN</th>\n",
       "      <th>properties.COLOR_TEMP</th>\n",
       "      <th>properties.BASE_COLOR</th>\n",
       "    </tr>\n",
       "  </thead>\n",
       "  <tbody>\n",
       "    <tr>\n",
       "      <th>0</th>\n",
       "      <td>Feature</td>\n",
       "      <td>Point</td>\n",
       "      <td>[-78.500067, 38.060712]</td>\n",
       "      <td>1</td>\n",
       "      <td>F2326XN8900</td>\n",
       "      <td>100</td>\n",
       "      <td>ENCL</td>\n",
       "      <td>YLO</td>\n",
       "      <td>10</td>\n",
       "      <td>HPS</td>\n",
       "      <td>...</td>\n",
       "      <td>None</td>\n",
       "      <td>None</td>\n",
       "      <td>0</td>\n",
       "      <td>None</td>\n",
       "      <td>None</td>\n",
       "      <td>None</td>\n",
       "      <td>None</td>\n",
       "      <td>None</td>\n",
       "      <td>None</td>\n",
       "      <td>None</td>\n",
       "    </tr>\n",
       "    <tr>\n",
       "      <th>1</th>\n",
       "      <td>Feature</td>\n",
       "      <td>Point</td>\n",
       "      <td>[-78.494218, 38.037517]</td>\n",
       "      <td>1</td>\n",
       "      <td>G0025DM2000</td>\n",
       "      <td>100</td>\n",
       "      <td>ENCL</td>\n",
       "      <td>YLO</td>\n",
       "      <td>10</td>\n",
       "      <td>HPS</td>\n",
       "      <td>...</td>\n",
       "      <td>None</td>\n",
       "      <td>None</td>\n",
       "      <td>0</td>\n",
       "      <td>None</td>\n",
       "      <td>None</td>\n",
       "      <td>None</td>\n",
       "      <td>None</td>\n",
       "      <td>None</td>\n",
       "      <td>None</td>\n",
       "      <td>None</td>\n",
       "    </tr>\n",
       "    <tr>\n",
       "      <th>2</th>\n",
       "      <td>Feature</td>\n",
       "      <td>Point</td>\n",
       "      <td>[-78.488514, 38.034276]</td>\n",
       "      <td>1</td>\n",
       "      <td>G0025GJ4600</td>\n",
       "      <td>150</td>\n",
       "      <td>ENCL</td>\n",
       "      <td>YLO</td>\n",
       "      <td>15</td>\n",
       "      <td>HPS</td>\n",
       "      <td>...</td>\n",
       "      <td>None</td>\n",
       "      <td>None</td>\n",
       "      <td>0</td>\n",
       "      <td>None</td>\n",
       "      <td>None</td>\n",
       "      <td>None</td>\n",
       "      <td>None</td>\n",
       "      <td>None</td>\n",
       "      <td>None</td>\n",
       "      <td>None</td>\n",
       "    </tr>\n",
       "    <tr>\n",
       "      <th>3</th>\n",
       "      <td>Feature</td>\n",
       "      <td>Point</td>\n",
       "      <td>[-78.49317, 38.04372]</td>\n",
       "      <td>4</td>\n",
       "      <td>G0026DB8400</td>\n",
       "      <td>175</td>\n",
       "      <td>ENCL</td>\n",
       "      <td>LTBL</td>\n",
       "      <td>17</td>\n",
       "      <td>MV</td>\n",
       "      <td>...</td>\n",
       "      <td>None</td>\n",
       "      <td>None</td>\n",
       "      <td>0</td>\n",
       "      <td>None</td>\n",
       "      <td>None</td>\n",
       "      <td>None</td>\n",
       "      <td>None</td>\n",
       "      <td>None</td>\n",
       "      <td>None</td>\n",
       "      <td>None</td>\n",
       "    </tr>\n",
       "    <tr>\n",
       "      <th>4</th>\n",
       "      <td>Feature</td>\n",
       "      <td>Point</td>\n",
       "      <td>[-78.477127, 38.031177]</td>\n",
       "      <td>4</td>\n",
       "      <td>G0025MH9400</td>\n",
       "      <td>250</td>\n",
       "      <td>ENCL</td>\n",
       "      <td>LTBL</td>\n",
       "      <td>25</td>\n",
       "      <td>MV</td>\n",
       "      <td>...</td>\n",
       "      <td>None</td>\n",
       "      <td>None</td>\n",
       "      <td>0</td>\n",
       "      <td>None</td>\n",
       "      <td>None</td>\n",
       "      <td>None</td>\n",
       "      <td>None</td>\n",
       "      <td>None</td>\n",
       "      <td>None</td>\n",
       "      <td>None</td>\n",
       "    </tr>\n",
       "  </tbody>\n",
       "</table>\n",
       "<p>5 rows × 45 columns</p>\n",
       "</div>"
      ],
      "text/plain": [
       "      type geometry.type     geometry.coordinates  properties.SUBTYPECD  \\\n",
       "0  Feature         Point  [-78.500067, 38.060712]                     1   \n",
       "1  Feature         Point  [-78.494218, 38.037517]                     1   \n",
       "2  Feature         Point  [-78.488514, 38.034276]                     1   \n",
       "3  Feature         Point    [-78.49317, 38.04372]                     4   \n",
       "4  Feature         Point  [-78.477127, 38.031177]                     4   \n",
       "\n",
       "  properties.GRID_ADDRE  properties.WATTS properties.FIXTURE_ST  \\\n",
       "0           F2326XN8900               100                  ENCL   \n",
       "1           G0025DM2000               100                  ENCL   \n",
       "2           G0025GJ4600               150                  ENCL   \n",
       "3           G0026DB8400               175                  ENCL   \n",
       "4           G0025MH9400               250                  ENCL   \n",
       "\n",
       "  properties.DECAL_COLO properties.DECAL_NUMB properties.LAMP_CD  ...  \\\n",
       "0                   YLO                    10                HPS  ...   \n",
       "1                   YLO                    10                HPS  ...   \n",
       "2                   YLO                    15                HPS  ...   \n",
       "3                  LTBL                    17                 MV  ...   \n",
       "4                  LTBL                    25                 MV  ...   \n",
       "\n",
       "  properties.NONSTAND_1  properties.STREETLIGH properties.PREMISE_ID  \\\n",
       "0                  None                   None                     0   \n",
       "1                  None                   None                     0   \n",
       "2                  None                   None                     0   \n",
       "3                  None                   None                     0   \n",
       "4                  None                   None                     0   \n",
       "\n",
       "  properties.ISWATCHLIG properties.INSPECTION properties.BASIC_PREM  \\\n",
       "0                  None                  None                  None   \n",
       "1                  None                  None                  None   \n",
       "2                  None                  None                  None   \n",
       "3                  None                  None                  None   \n",
       "4                  None                  None                  None   \n",
       "\n",
       "   properties.CUID properties.PATTERN properties.COLOR_TEMP  \\\n",
       "0             None               None                  None   \n",
       "1             None               None                  None   \n",
       "2             None               None                  None   \n",
       "3             None               None                  None   \n",
       "4             None               None                  None   \n",
       "\n",
       "  properties.BASE_COLOR  \n",
       "0                  None  \n",
       "1                  None  \n",
       "2                  None  \n",
       "3                  None  \n",
       "4                  None  \n",
       "\n",
       "[5 rows x 45 columns]"
      ]
     },
     "execution_count": 55,
     "metadata": {},
     "output_type": "execute_result"
    }
   ],
   "source": [
    "column_drop = ['type', 'geometry.type', 'properties.SUBTYPECD',\n",
    "       'properties.WATTS','properties.DECAL_COLO', \n",
    "       'properties.DECAL_NUMB', 'properties.LAMP_CD',\n",
    "       'properties.USE_CD', 'properties.MOUNT_HEIG', 'properties.OWNER',\n",
    "       'properties.BRACKET_CD', 'properties.BRACKET_LN',\n",
    "       'properties.INSTALL_DA', 'properties.RELATEDPOL',\n",
    "       'properties.FIRSTONPOL', 'properties.BRIDGE_IND',\n",
    "       'properties.MATERIAL_C', 'properties.STYLE', 'properties.WORK_EFFEC',\n",
    "       'properties.WORK_REQUE', 'properties.LUMENS', 'properties.CONTRACT_N',\n",
    "       'properties.NOM_VOLT', 'properties.SYMBOLROTA', 'properties.SUBMISSION',\n",
    "       'properties.WORKREQUES', 'properties.DESIGNID', 'properties.WORKLOCATI',\n",
    "       'properties.WORKFLOWST', 'properties.WORKFUNCTI', 'properties.ENABLED',\n",
    "       'properties.NONSTANDAR', 'properties.NONSTAND_1',\n",
    "       'properties.STREETLIGH', 'properties.PREMISE_ID',\n",
    "       'properties.ISWATCHLIG', 'properties.INSPECTION',\n",
    "       'properties.BASIC_PREM', 'properties.CUID', 'properties.PATTERN',\n",
    "       'properties.COLOR_TEMP', 'properties.BASE_COLOR']\n",
    "#features_df = features_df.drop(column_drop, axis=1)\n",
    "features_df.head()"
   ]
  },
  {
   "cell_type": "code",
   "execution_count": 56,
   "metadata": {},
   "outputs": [
    {
     "data": {
      "text/html": [
       "<div>\n",
       "<style scoped>\n",
       "    .dataframe tbody tr th:only-of-type {\n",
       "        vertical-align: middle;\n",
       "    }\n",
       "\n",
       "    .dataframe tbody tr th {\n",
       "        vertical-align: top;\n",
       "    }\n",
       "\n",
       "    .dataframe thead th {\n",
       "        text-align: right;\n",
       "    }\n",
       "</style>\n",
       "<table border=\"1\" class=\"dataframe\">\n",
       "  <thead>\n",
       "    <tr style=\"text-align: right;\">\n",
       "      <th></th>\n",
       "      <th>type</th>\n",
       "      <th>geometry.type</th>\n",
       "      <th>geometry.coordinates</th>\n",
       "      <th>properties.SUBTYPECD</th>\n",
       "      <th>properties.GRID_ADDRE</th>\n",
       "      <th>properties.WATTS</th>\n",
       "      <th>properties.FIXTURE_ST</th>\n",
       "      <th>properties.DECAL_COLO</th>\n",
       "      <th>properties.DECAL_NUMB</th>\n",
       "      <th>properties.LAMP_CD</th>\n",
       "      <th>...</th>\n",
       "      <th>properties.PREMISE_ID</th>\n",
       "      <th>properties.ISWATCHLIG</th>\n",
       "      <th>properties.INSPECTION</th>\n",
       "      <th>properties.BASIC_PREM</th>\n",
       "      <th>properties.CUID</th>\n",
       "      <th>properties.PATTERN</th>\n",
       "      <th>properties.COLOR_TEMP</th>\n",
       "      <th>properties.BASE_COLOR</th>\n",
       "      <th>long</th>\n",
       "      <th>lat</th>\n",
       "    </tr>\n",
       "  </thead>\n",
       "  <tbody>\n",
       "    <tr>\n",
       "      <th>0</th>\n",
       "      <td>Feature</td>\n",
       "      <td>Point</td>\n",
       "      <td>[-78.500067, 38.060712]</td>\n",
       "      <td>1</td>\n",
       "      <td>F2326XN8900</td>\n",
       "      <td>100</td>\n",
       "      <td>ENCL</td>\n",
       "      <td>YLO</td>\n",
       "      <td>10</td>\n",
       "      <td>HPS</td>\n",
       "      <td>...</td>\n",
       "      <td>0</td>\n",
       "      <td>None</td>\n",
       "      <td>None</td>\n",
       "      <td>None</td>\n",
       "      <td>None</td>\n",
       "      <td>None</td>\n",
       "      <td>None</td>\n",
       "      <td>None</td>\n",
       "      <td>-78.500067</td>\n",
       "      <td>38.060712</td>\n",
       "    </tr>\n",
       "    <tr>\n",
       "      <th>1</th>\n",
       "      <td>Feature</td>\n",
       "      <td>Point</td>\n",
       "      <td>[-78.494218, 38.037517]</td>\n",
       "      <td>1</td>\n",
       "      <td>G0025DM2000</td>\n",
       "      <td>100</td>\n",
       "      <td>ENCL</td>\n",
       "      <td>YLO</td>\n",
       "      <td>10</td>\n",
       "      <td>HPS</td>\n",
       "      <td>...</td>\n",
       "      <td>0</td>\n",
       "      <td>None</td>\n",
       "      <td>None</td>\n",
       "      <td>None</td>\n",
       "      <td>None</td>\n",
       "      <td>None</td>\n",
       "      <td>None</td>\n",
       "      <td>None</td>\n",
       "      <td>-78.494218</td>\n",
       "      <td>38.037517</td>\n",
       "    </tr>\n",
       "    <tr>\n",
       "      <th>2</th>\n",
       "      <td>Feature</td>\n",
       "      <td>Point</td>\n",
       "      <td>[-78.488514, 38.034276]</td>\n",
       "      <td>1</td>\n",
       "      <td>G0025GJ4600</td>\n",
       "      <td>150</td>\n",
       "      <td>ENCL</td>\n",
       "      <td>YLO</td>\n",
       "      <td>15</td>\n",
       "      <td>HPS</td>\n",
       "      <td>...</td>\n",
       "      <td>0</td>\n",
       "      <td>None</td>\n",
       "      <td>None</td>\n",
       "      <td>None</td>\n",
       "      <td>None</td>\n",
       "      <td>None</td>\n",
       "      <td>None</td>\n",
       "      <td>None</td>\n",
       "      <td>-78.488514</td>\n",
       "      <td>38.034276</td>\n",
       "    </tr>\n",
       "    <tr>\n",
       "      <th>3</th>\n",
       "      <td>Feature</td>\n",
       "      <td>Point</td>\n",
       "      <td>[-78.49317, 38.04372]</td>\n",
       "      <td>4</td>\n",
       "      <td>G0026DB8400</td>\n",
       "      <td>175</td>\n",
       "      <td>ENCL</td>\n",
       "      <td>LTBL</td>\n",
       "      <td>17</td>\n",
       "      <td>MV</td>\n",
       "      <td>...</td>\n",
       "      <td>0</td>\n",
       "      <td>None</td>\n",
       "      <td>None</td>\n",
       "      <td>None</td>\n",
       "      <td>None</td>\n",
       "      <td>None</td>\n",
       "      <td>None</td>\n",
       "      <td>None</td>\n",
       "      <td>-78.493170</td>\n",
       "      <td>38.043720</td>\n",
       "    </tr>\n",
       "    <tr>\n",
       "      <th>4</th>\n",
       "      <td>Feature</td>\n",
       "      <td>Point</td>\n",
       "      <td>[-78.477127, 38.031177]</td>\n",
       "      <td>4</td>\n",
       "      <td>G0025MH9400</td>\n",
       "      <td>250</td>\n",
       "      <td>ENCL</td>\n",
       "      <td>LTBL</td>\n",
       "      <td>25</td>\n",
       "      <td>MV</td>\n",
       "      <td>...</td>\n",
       "      <td>0</td>\n",
       "      <td>None</td>\n",
       "      <td>None</td>\n",
       "      <td>None</td>\n",
       "      <td>None</td>\n",
       "      <td>None</td>\n",
       "      <td>None</td>\n",
       "      <td>None</td>\n",
       "      <td>-78.477127</td>\n",
       "      <td>38.031177</td>\n",
       "    </tr>\n",
       "  </tbody>\n",
       "</table>\n",
       "<p>5 rows × 47 columns</p>\n",
       "</div>"
      ],
      "text/plain": [
       "      type geometry.type     geometry.coordinates  properties.SUBTYPECD  \\\n",
       "0  Feature         Point  [-78.500067, 38.060712]                     1   \n",
       "1  Feature         Point  [-78.494218, 38.037517]                     1   \n",
       "2  Feature         Point  [-78.488514, 38.034276]                     1   \n",
       "3  Feature         Point    [-78.49317, 38.04372]                     4   \n",
       "4  Feature         Point  [-78.477127, 38.031177]                     4   \n",
       "\n",
       "  properties.GRID_ADDRE  properties.WATTS properties.FIXTURE_ST  \\\n",
       "0           F2326XN8900               100                  ENCL   \n",
       "1           G0025DM2000               100                  ENCL   \n",
       "2           G0025GJ4600               150                  ENCL   \n",
       "3           G0026DB8400               175                  ENCL   \n",
       "4           G0025MH9400               250                  ENCL   \n",
       "\n",
       "  properties.DECAL_COLO properties.DECAL_NUMB properties.LAMP_CD  ...  \\\n",
       "0                   YLO                    10                HPS  ...   \n",
       "1                   YLO                    10                HPS  ...   \n",
       "2                   YLO                    15                HPS  ...   \n",
       "3                  LTBL                    17                 MV  ...   \n",
       "4                  LTBL                    25                 MV  ...   \n",
       "\n",
       "  properties.PREMISE_ID  properties.ISWATCHLIG properties.INSPECTION  \\\n",
       "0                     0                   None                  None   \n",
       "1                     0                   None                  None   \n",
       "2                     0                   None                  None   \n",
       "3                     0                   None                  None   \n",
       "4                     0                   None                  None   \n",
       "\n",
       "  properties.BASIC_PREM properties.CUID properties.PATTERN  \\\n",
       "0                  None            None               None   \n",
       "1                  None            None               None   \n",
       "2                  None            None               None   \n",
       "3                  None            None               None   \n",
       "4                  None            None               None   \n",
       "\n",
       "   properties.COLOR_TEMP properties.BASE_COLOR       long        lat  \n",
       "0                   None                  None -78.500067  38.060712  \n",
       "1                   None                  None -78.494218  38.037517  \n",
       "2                   None                  None -78.488514  38.034276  \n",
       "3                   None                  None -78.493170  38.043720  \n",
       "4                   None                  None -78.477127  38.031177  \n",
       "\n",
       "[5 rows x 47 columns]"
      ]
     },
     "execution_count": 56,
     "metadata": {},
     "output_type": "execute_result"
    }
   ],
   "source": [
    "features_df['long'] = features_df['geometry.coordinates'].map(lambda x: (x[0]))\n",
    "features_df['lat'] = features_df['geometry.coordinates'].map(lambda x: (x[1]))\n",
    "features_df.head()"
   ]
  },
  {
   "cell_type": "code",
   "execution_count": 12,
   "metadata": {},
   "outputs": [],
   "source": [
    "Lat, Long = list(features_df['lat']), list(features_df['long'])"
   ]
  },
  {
   "cell_type": "markdown",
   "metadata": {
    "id": "u3270QmLAeX0"
   },
   "source": [
    "### Use Streetview Metadata API to determine Lat/Long for each Panoramic Image"
   ]
  },
  {
   "cell_type": "code",
   "execution_count": 13,
   "metadata": {
    "colab": {
     "base_uri": "https://localhost:8080/"
    },
    "id": "D62-djhKRlSc",
    "outputId": "451de122-9e2d-4752-96c0-e073ddfc34e1"
   },
   "outputs": [
    {
     "name": "stdout",
     "output_type": "stream",
     "text": [
      "done\n"
     ]
    }
   ],
   "source": [
    "### Collect Image Coordinates in dataframe\n",
    "import requests\n",
    "image_metadata=[]\n",
    "\n",
    "api_key = KEY\n",
    "metadata_request = \"https://maps.googleapis.com/maps/api/streetview/metadata?size=600x300&location={},{}&pitch=20&key={}\"\n",
    "\n",
    "for x_lat, y_long in zip(Lat, Long):\n",
    "    url = metadata_request.format(x_lat, y_long, api_key)\n",
    "    metadata = requests.post(url).json()\n",
    "    image_metadata.append(metadata)\n",
    "\n",
    "print(\"done\")   "
   ]
  },
  {
   "cell_type": "code",
   "execution_count": 39,
   "metadata": {
    "colab": {
     "base_uri": "https://localhost:8080/",
     "height": 291
    },
    "id": "SrC6tc3n7P-7",
    "outputId": "54cf4814-a653-45ce-aa67-07f5fe227c2b"
   },
   "outputs": [
    {
     "ename": "NameError",
     "evalue": "name 'image_metadata' is not defined",
     "output_type": "error",
     "traceback": [
      "\u001b[1;31m---------------------------------------------------------------------------\u001b[0m",
      "\u001b[1;31mNameError\u001b[0m                                 Traceback (most recent call last)",
      "\u001b[1;32m<ipython-input-39-d7ca13bb365b>\u001b[0m in \u001b[0;36m<module>\u001b[1;34m\u001b[0m\n\u001b[1;32m----> 1\u001b[1;33m \u001b[0mmetadata_df\u001b[0m \u001b[1;33m=\u001b[0m \u001b[0mpd\u001b[0m\u001b[1;33m.\u001b[0m\u001b[0mjson_normalize\u001b[0m\u001b[1;33m(\u001b[0m\u001b[0mimage_metadata\u001b[0m\u001b[1;33m)\u001b[0m\u001b[1;33m\u001b[0m\u001b[1;33m\u001b[0m\u001b[0m\n\u001b[0m\u001b[0;32m      2\u001b[0m \u001b[0mmetadata_df\u001b[0m\u001b[1;33m.\u001b[0m\u001b[0mhead\u001b[0m\u001b[1;33m(\u001b[0m\u001b[1;33m)\u001b[0m\u001b[1;33m\u001b[0m\u001b[1;33m\u001b[0m\u001b[0m\n",
      "\u001b[1;31mNameError\u001b[0m: name 'image_metadata' is not defined"
     ]
    }
   ],
   "source": [
    "metadata_df = pd.json_normalize(image_metadata)\n",
    "metadata_df.head()"
   ]
  },
  {
   "cell_type": "code",
   "execution_count": 16,
   "metadata": {},
   "outputs": [
    {
     "data": {
      "text/plain": [
       "(3788, 6)"
      ]
     },
     "execution_count": 16,
     "metadata": {},
     "output_type": "execute_result"
    }
   ],
   "source": [
    "metadata_df.shape"
   ]
  },
  {
   "cell_type": "code",
   "execution_count": 17,
   "metadata": {},
   "outputs": [
    {
     "data": {
      "text/html": [
       "<div>\n",
       "<style scoped>\n",
       "    .dataframe tbody tr th:only-of-type {\n",
       "        vertical-align: middle;\n",
       "    }\n",
       "\n",
       "    .dataframe tbody tr th {\n",
       "        vertical-align: top;\n",
       "    }\n",
       "\n",
       "    .dataframe thead th {\n",
       "        text-align: right;\n",
       "    }\n",
       "</style>\n",
       "<table border=\"1\" class=\"dataframe\">\n",
       "  <thead>\n",
       "    <tr style=\"text-align: right;\">\n",
       "      <th></th>\n",
       "      <th>copyright</th>\n",
       "      <th>date</th>\n",
       "      <th>pano_id</th>\n",
       "      <th>status</th>\n",
       "      <th>view_lat</th>\n",
       "      <th>view_long</th>\n",
       "    </tr>\n",
       "  </thead>\n",
       "  <tbody>\n",
       "    <tr>\n",
       "      <th>0</th>\n",
       "      <td>© Google</td>\n",
       "      <td>2012-08</td>\n",
       "      <td>HVTHF772l8uuo59MkrsIOQ</td>\n",
       "      <td>OK</td>\n",
       "      <td>38.060828</td>\n",
       "      <td>-78.500034</td>\n",
       "    </tr>\n",
       "    <tr>\n",
       "      <th>1</th>\n",
       "      <td>© Google</td>\n",
       "      <td>2012-10</td>\n",
       "      <td>UXnoWZ5G9dTV9lCFCGW_-Q</td>\n",
       "      <td>OK</td>\n",
       "      <td>38.037575</td>\n",
       "      <td>-78.494232</td>\n",
       "    </tr>\n",
       "    <tr>\n",
       "      <th>2</th>\n",
       "      <td>© Google</td>\n",
       "      <td>2012-08</td>\n",
       "      <td>rxJjsQzFjMJCrN2cAj-sFA</td>\n",
       "      <td>OK</td>\n",
       "      <td>38.034307</td>\n",
       "      <td>-78.488551</td>\n",
       "    </tr>\n",
       "    <tr>\n",
       "      <th>3</th>\n",
       "      <td>© Google</td>\n",
       "      <td>2019-07</td>\n",
       "      <td>_lb8eEAV8eHzf2PJ1WkyjQ</td>\n",
       "      <td>OK</td>\n",
       "      <td>38.043803</td>\n",
       "      <td>-78.493220</td>\n",
       "    </tr>\n",
       "    <tr>\n",
       "      <th>4</th>\n",
       "      <td>© Google</td>\n",
       "      <td>2018-06</td>\n",
       "      <td>1zX-eSFuGb4b9NtV6ttk1A</td>\n",
       "      <td>OK</td>\n",
       "      <td>38.031178</td>\n",
       "      <td>-78.477203</td>\n",
       "    </tr>\n",
       "  </tbody>\n",
       "</table>\n",
       "</div>"
      ],
      "text/plain": [
       "  copyright     date                 pano_id status   view_lat  view_long\n",
       "0  © Google  2012-08  HVTHF772l8uuo59MkrsIOQ     OK  38.060828 -78.500034\n",
       "1  © Google  2012-10  UXnoWZ5G9dTV9lCFCGW_-Q     OK  38.037575 -78.494232\n",
       "2  © Google  2012-08  rxJjsQzFjMJCrN2cAj-sFA     OK  38.034307 -78.488551\n",
       "3  © Google  2019-07  _lb8eEAV8eHzf2PJ1WkyjQ     OK  38.043803 -78.493220\n",
       "4  © Google  2018-06  1zX-eSFuGb4b9NtV6ttk1A     OK  38.031178 -78.477203"
      ]
     },
     "execution_count": 17,
     "metadata": {},
     "output_type": "execute_result"
    }
   ],
   "source": [
    "metadata_df = metadata_df.rename(columns={\"location.lat\": \"view_lat\", \"location.lng\": \"view_long\"})\n",
    "metadata_df.head()"
   ]
  },
  {
   "cell_type": "code",
   "execution_count": 18,
   "metadata": {
    "colab": {
     "base_uri": "https://localhost:8080/",
     "height": 1000
    },
    "id": "qaDA4j_DIIb0",
    "outputId": "2b0ec9b7-faae-47b7-e05a-b7c0cb2dba84"
   },
   "outputs": [
    {
     "data": {
      "text/html": [
       "<div>\n",
       "<style scoped>\n",
       "    .dataframe tbody tr th:only-of-type {\n",
       "        vertical-align: middle;\n",
       "    }\n",
       "\n",
       "    .dataframe tbody tr th {\n",
       "        vertical-align: top;\n",
       "    }\n",
       "\n",
       "    .dataframe thead th {\n",
       "        text-align: right;\n",
       "    }\n",
       "</style>\n",
       "<table border=\"1\" class=\"dataframe\">\n",
       "  <thead>\n",
       "    <tr style=\"text-align: right;\">\n",
       "      <th></th>\n",
       "      <th>type</th>\n",
       "      <th>geometry.type</th>\n",
       "      <th>geometry.coordinates</th>\n",
       "      <th>properties.SUBTYPECD</th>\n",
       "      <th>properties.GRID_ADDRE</th>\n",
       "      <th>properties.WATTS</th>\n",
       "      <th>properties.FIXTURE_ST</th>\n",
       "      <th>properties.DECAL_COLO</th>\n",
       "      <th>properties.DECAL_NUMB</th>\n",
       "      <th>properties.LAMP_CD</th>\n",
       "      <th>...</th>\n",
       "      <th>properties.COLOR_TEMP</th>\n",
       "      <th>properties.BASE_COLOR</th>\n",
       "      <th>long</th>\n",
       "      <th>lat</th>\n",
       "      <th>copyright</th>\n",
       "      <th>date</th>\n",
       "      <th>pano_id</th>\n",
       "      <th>status</th>\n",
       "      <th>view_lat</th>\n",
       "      <th>view_long</th>\n",
       "    </tr>\n",
       "  </thead>\n",
       "  <tbody>\n",
       "    <tr>\n",
       "      <th>0</th>\n",
       "      <td>Feature</td>\n",
       "      <td>Point</td>\n",
       "      <td>[-78.500067, 38.060712]</td>\n",
       "      <td>1</td>\n",
       "      <td>F2326XN8900</td>\n",
       "      <td>100</td>\n",
       "      <td>ENCL</td>\n",
       "      <td>YLO</td>\n",
       "      <td>10</td>\n",
       "      <td>HPS</td>\n",
       "      <td>...</td>\n",
       "      <td>None</td>\n",
       "      <td>None</td>\n",
       "      <td>-78.500067</td>\n",
       "      <td>38.060712</td>\n",
       "      <td>© Google</td>\n",
       "      <td>2012-08</td>\n",
       "      <td>HVTHF772l8uuo59MkrsIOQ</td>\n",
       "      <td>OK</td>\n",
       "      <td>38.060828</td>\n",
       "      <td>-78.500034</td>\n",
       "    </tr>\n",
       "    <tr>\n",
       "      <th>1</th>\n",
       "      <td>Feature</td>\n",
       "      <td>Point</td>\n",
       "      <td>[-78.494218, 38.037517]</td>\n",
       "      <td>1</td>\n",
       "      <td>G0025DM2000</td>\n",
       "      <td>100</td>\n",
       "      <td>ENCL</td>\n",
       "      <td>YLO</td>\n",
       "      <td>10</td>\n",
       "      <td>HPS</td>\n",
       "      <td>...</td>\n",
       "      <td>None</td>\n",
       "      <td>None</td>\n",
       "      <td>-78.494218</td>\n",
       "      <td>38.037517</td>\n",
       "      <td>© Google</td>\n",
       "      <td>2012-10</td>\n",
       "      <td>UXnoWZ5G9dTV9lCFCGW_-Q</td>\n",
       "      <td>OK</td>\n",
       "      <td>38.037575</td>\n",
       "      <td>-78.494232</td>\n",
       "    </tr>\n",
       "    <tr>\n",
       "      <th>2</th>\n",
       "      <td>Feature</td>\n",
       "      <td>Point</td>\n",
       "      <td>[-78.488514, 38.034276]</td>\n",
       "      <td>1</td>\n",
       "      <td>G0025GJ4600</td>\n",
       "      <td>150</td>\n",
       "      <td>ENCL</td>\n",
       "      <td>YLO</td>\n",
       "      <td>15</td>\n",
       "      <td>HPS</td>\n",
       "      <td>...</td>\n",
       "      <td>None</td>\n",
       "      <td>None</td>\n",
       "      <td>-78.488514</td>\n",
       "      <td>38.034276</td>\n",
       "      <td>© Google</td>\n",
       "      <td>2012-08</td>\n",
       "      <td>rxJjsQzFjMJCrN2cAj-sFA</td>\n",
       "      <td>OK</td>\n",
       "      <td>38.034307</td>\n",
       "      <td>-78.488551</td>\n",
       "    </tr>\n",
       "    <tr>\n",
       "      <th>3</th>\n",
       "      <td>Feature</td>\n",
       "      <td>Point</td>\n",
       "      <td>[-78.49317, 38.04372]</td>\n",
       "      <td>4</td>\n",
       "      <td>G0026DB8400</td>\n",
       "      <td>175</td>\n",
       "      <td>ENCL</td>\n",
       "      <td>LTBL</td>\n",
       "      <td>17</td>\n",
       "      <td>MV</td>\n",
       "      <td>...</td>\n",
       "      <td>None</td>\n",
       "      <td>None</td>\n",
       "      <td>-78.493170</td>\n",
       "      <td>38.043720</td>\n",
       "      <td>© Google</td>\n",
       "      <td>2019-07</td>\n",
       "      <td>_lb8eEAV8eHzf2PJ1WkyjQ</td>\n",
       "      <td>OK</td>\n",
       "      <td>38.043803</td>\n",
       "      <td>-78.493220</td>\n",
       "    </tr>\n",
       "    <tr>\n",
       "      <th>4</th>\n",
       "      <td>Feature</td>\n",
       "      <td>Point</td>\n",
       "      <td>[-78.477127, 38.031177]</td>\n",
       "      <td>4</td>\n",
       "      <td>G0025MH9400</td>\n",
       "      <td>250</td>\n",
       "      <td>ENCL</td>\n",
       "      <td>LTBL</td>\n",
       "      <td>25</td>\n",
       "      <td>MV</td>\n",
       "      <td>...</td>\n",
       "      <td>None</td>\n",
       "      <td>None</td>\n",
       "      <td>-78.477127</td>\n",
       "      <td>38.031177</td>\n",
       "      <td>© Google</td>\n",
       "      <td>2018-06</td>\n",
       "      <td>1zX-eSFuGb4b9NtV6ttk1A</td>\n",
       "      <td>OK</td>\n",
       "      <td>38.031178</td>\n",
       "      <td>-78.477203</td>\n",
       "    </tr>\n",
       "  </tbody>\n",
       "</table>\n",
       "<p>5 rows × 53 columns</p>\n",
       "</div>"
      ],
      "text/plain": [
       "      type geometry.type     geometry.coordinates  properties.SUBTYPECD  \\\n",
       "0  Feature         Point  [-78.500067, 38.060712]                     1   \n",
       "1  Feature         Point  [-78.494218, 38.037517]                     1   \n",
       "2  Feature         Point  [-78.488514, 38.034276]                     1   \n",
       "3  Feature         Point    [-78.49317, 38.04372]                     4   \n",
       "4  Feature         Point  [-78.477127, 38.031177]                     4   \n",
       "\n",
       "  properties.GRID_ADDRE  properties.WATTS properties.FIXTURE_ST  \\\n",
       "0           F2326XN8900               100                  ENCL   \n",
       "1           G0025DM2000               100                  ENCL   \n",
       "2           G0025GJ4600               150                  ENCL   \n",
       "3           G0026DB8400               175                  ENCL   \n",
       "4           G0025MH9400               250                  ENCL   \n",
       "\n",
       "  properties.DECAL_COLO properties.DECAL_NUMB properties.LAMP_CD  ...  \\\n",
       "0                   YLO                    10                HPS  ...   \n",
       "1                   YLO                    10                HPS  ...   \n",
       "2                   YLO                    15                HPS  ...   \n",
       "3                  LTBL                    17                 MV  ...   \n",
       "4                  LTBL                    25                 MV  ...   \n",
       "\n",
       "  properties.COLOR_TEMP  properties.BASE_COLOR       long        lat  \\\n",
       "0                  None                   None -78.500067  38.060712   \n",
       "1                  None                   None -78.494218  38.037517   \n",
       "2                  None                   None -78.488514  38.034276   \n",
       "3                  None                   None -78.493170  38.043720   \n",
       "4                  None                   None -78.477127  38.031177   \n",
       "\n",
       "  copyright     date                 pano_id status   view_lat  view_long  \n",
       "0  © Google  2012-08  HVTHF772l8uuo59MkrsIOQ     OK  38.060828 -78.500034  \n",
       "1  © Google  2012-10  UXnoWZ5G9dTV9lCFCGW_-Q     OK  38.037575 -78.494232  \n",
       "2  © Google  2012-08  rxJjsQzFjMJCrN2cAj-sFA     OK  38.034307 -78.488551  \n",
       "3  © Google  2019-07  _lb8eEAV8eHzf2PJ1WkyjQ     OK  38.043803 -78.493220  \n",
       "4  © Google  2018-06  1zX-eSFuGb4b9NtV6ttk1A     OK  38.031178 -78.477203  \n",
       "\n",
       "[5 rows x 53 columns]"
      ]
     },
     "execution_count": 18,
     "metadata": {},
     "output_type": "execute_result"
    }
   ],
   "source": [
    "#Combine street light and streetview image data\n",
    "combined_df = pd.concat([features_df, metadata_df], axis=1)\n",
    "combined_df.head()"
   ]
  },
  {
   "cell_type": "code",
   "execution_count": 21,
   "metadata": {},
   "outputs": [
    {
     "data": {
      "text/plain": [
       "(3788, 53)"
      ]
     },
     "execution_count": 21,
     "metadata": {},
     "output_type": "execute_result"
    }
   ],
   "source": [
    "combined_df.shape"
   ]
  },
  {
   "cell_type": "code",
   "execution_count": 57,
   "metadata": {},
   "outputs": [],
   "source": [
    "metadata_df.to_csv('streetlight-meta.csv', index=False)\n",
    "features_df.to_csv('streetlight-data.csv', index=False)\n",
    "combined_df.to_csv('streetlight-combined.csv', index=False)"
   ]
  },
  {
   "cell_type": "code",
   "execution_count": 37,
   "metadata": {},
   "outputs": [],
   "source": [
    "metadata_df = pd.read_csv('streetlight-meta.csv', header=0)\n",
    "features_df = pd.read_csv('streetlight-data.csv', header=0)\n",
    "combined_df = pd.read_csv('streetlight-combined.csv', header=0)"
   ]
  },
  {
   "cell_type": "markdown",
   "metadata": {
    "id": "gmS9PC7C_dA8"
   },
   "source": [
    "#### Calculate Bearing from Google Image to Steetlight"
   ]
  },
  {
   "cell_type": "code",
   "execution_count": null,
   "metadata": {
    "id": "SgrxJqOlMW4L"
   },
   "outputs": [],
   "source": [
    "#Compute columns for bearing from image capture to streetlight\n",
    "from numpy import arctan2,random,sin,cos,degrees\n",
    "combined_df['dL'] = combined_df['Longitude']-combined_df['location.lng']\n",
    "\n",
    "combined_df['X'] = cos(combined_df['Latitude']*np.pi/180)* sin(combined_df['dL']*np.pi/180)\n",
    "combined_df['Y'] = (cos(combined_df['location.lat']*np.pi/180)*sin(combined_df['Latitude']*np.pi/180)) - (sin(combined_df['location.lat']*np.pi/180)*cos(combined_df['Latitude']*np.pi/180)* cos(combined_df['dL']*np.pi/180))"
   ]
  },
  {
   "cell_type": "code",
   "execution_count": null,
   "metadata": {
    "id": "umEifbXDI1_C"
   },
   "outputs": [],
   "source": [
    "combined_df['radians'] = arctan2(combined_df['X'], combined_df['Y'])\n",
    "combined_df['heading'] = (degrees(combined_df['radians']))\n",
    "combined_df['bearing'] = (combined_df['heading']+360) % 360"
   ]
  },
  {
   "cell_type": "code",
   "execution_count": null,
   "metadata": {
    "colab": {
     "base_uri": "https://localhost:8080/"
    },
    "id": "BRBF5HDYLXoV",
    "outputId": "ee33940f-ef72-40bd-b21a-6319992f278e"
   },
   "outputs": [],
   "source": [
    "combined_df.head()"
   ]
  },
  {
   "cell_type": "code",
   "execution_count": null,
   "metadata": {
    "colab": {
     "base_uri": "https://localhost:8080/"
    },
    "id": "2tP2ZvgdRC1s",
    "outputId": "aad2d282-c990-47d1-a107-e4124f4bd3d4"
   },
   "outputs": [],
   "source": [
    "#Generate list to feed into Streetview API Loop\n",
    "Lat=list(combined_df['location.lat'])\n",
    "Long=list(combined_df['location.lng'])\n",
    "Bearing=list(combined_df['bearing'])\n",
    "print(Lat)\n",
    "print(Long)\n",
    "print(Bearing)"
   ]
  },
  {
   "cell_type": "markdown",
   "metadata": {
    "id": "4BFXlPcU_sac"
   },
   "source": [
    "### Feed through Streetview API to scape Streetlight Images\n"
   ]
  },
  {
   "cell_type": "code",
   "execution_count": null,
   "metadata": {
    "colab": {
     "base_uri": "https://localhost:8080/"
    },
    "id": "I4lN6mpnTCsi",
    "outputId": "676df76f-eada-479d-bbdd-067d9b7e0be6"
   },
   "outputs": [],
   "source": [
    "# API call with location, heading and pitch\n",
    "api_url = \"https://maps.googleapis.com/maps/api/streetview?size=640x400&location={},{}&heading={}&pitch=20&key={}\"\n",
    "row = 1\n",
    "\n",
    "for x_lat, y_long, bearing in zip(Lat, Long, Bearing):\n",
    "    url = api_url.format(x_lat, y_long, bearing, api_key)\n",
    "\n",
    "    filename = \"image-{}.jpg\".format(row)\n",
    "    urllib.request.urlretrieve(url, filename)\n",
    "    print (\"Got %s\" % (filename,))\n",
    "\n",
    "    row += 1\n",
    "\n",
    "print (\"Done\")"
   ]
  },
  {
   "cell_type": "code",
   "execution_count": null,
   "metadata": {
    "id": "LFbKq75aBxJ4"
   },
   "outputs": [],
   "source": [
    "\n"
   ]
  },
  {
   "cell_type": "code",
   "execution_count": null,
   "metadata": {
    "id": "fvoYBfAUBxMQ"
   },
   "outputs": [],
   "source": [
    "### Testing Bearing Calculation"
   ]
  },
  {
   "cell_type": "code",
   "execution_count": 8,
   "metadata": {
    "id": "fyfWdk2vBxPP"
   },
   "outputs": [],
   "source": [
    "#Kansas City: 39.099912, -94.581213\n",
    "#St Louis: 38.627089, -90.200203\n",
    "\n",
    "stlat= 38.627089\n",
    "stlong= -90.200203\n",
    "kclat= 39.099912\n",
    "kclong=  -94.581213"
   ]
  },
  {
   "cell_type": "code",
   "execution_count": 18,
   "metadata": {},
   "outputs": [],
   "source": [
    "st_array = np.array([38.627089, -90.200203])\n",
    "kc_array = np.array([39.099912, -94.581213])\n",
    "array = np.array([[38.627089, -90.200203],[39.099912, -94.581213]])"
   ]
  },
  {
   "cell_type": "code",
   "execution_count": 19,
   "metadata": {},
   "outputs": [
    {
     "data": {
      "text/plain": [
       "array([[ 38.627089, -90.200203],\n",
       "       [ 39.099912, -94.581213]])"
      ]
     },
     "execution_count": 19,
     "metadata": {},
     "output_type": "execute_result"
    }
   ],
   "source": [
    "array"
   ]
  },
  {
   "cell_type": "code",
   "execution_count": 9,
   "metadata": {
    "id": "dBV5NgksBxSs"
   },
   "outputs": [],
   "source": [
    "dL = stlong-kclong\n",
    "\n",
    "X = np.cos(stlat*3.14/180)*np.sin(dL*3.14/180)\n",
    "Y = (np.cos(kclat*3.14/180)*np.sin(stlat*3.14/180)) - (np.sin(kclat*3.14/180)*np.cos(stlat*3.14/180)* np.cos(dL*3.14/180))"
   ]
  },
  {
   "cell_type": "code",
   "execution_count": 10,
   "metadata": {
    "colab": {
     "base_uri": "https://localhost:8080/"
    },
    "id": "hJC9yLXpDtTz",
    "outputId": "66499a65-6e3d-4828-c9fe-982026193831"
   },
   "outputs": [
    {
     "name": "stdout",
     "output_type": "stream",
     "text": [
      "4.381010000000003\n",
      "0.05966277836753552\n",
      "-0.006810114414652069\n"
     ]
    }
   ],
   "source": [
    "print(dL)\n",
    "print(X)\n",
    "print(Y)"
   ]
  },
  {
   "cell_type": "code",
   "execution_count": 11,
   "metadata": {
    "id": "-yhwDyOZB5H2"
   },
   "outputs": [],
   "source": [
    "radians = np.arctan2(X,Y)\n",
    "degrees = np.degrees(radians)"
   ]
  },
  {
   "cell_type": "code",
   "execution_count": 12,
   "metadata": {
    "colab": {
     "base_uri": "https://localhost:8080/"
    },
    "id": "dbPtmkDcDbN_",
    "outputId": "94d58cc7-a093-411b-9c0a-e0d03f1ce0bb"
   },
   "outputs": [
    {
     "name": "stdout",
     "output_type": "stream",
     "text": [
      "96.51175467506673\n"
     ]
    }
   ],
   "source": [
    "print(degrees)"
   ]
  },
  {
   "cell_type": "code",
   "execution_count": 13,
   "metadata": {
    "id": "hIigjPT0aRu8"
   },
   "outputs": [],
   "source": [
    "from sklearn.metrics.pairwise import cosine_similarity"
   ]
  },
  {
   "cell_type": "code",
   "execution_count": 24,
   "metadata": {},
   "outputs": [
    {
     "data": {
      "text/plain": [
       "10042.358132042755"
      ]
     },
     "execution_count": 24,
     "metadata": {},
     "output_type": "execute_result"
    }
   ],
   "source": []
  },
  {
   "cell_type": "code",
   "execution_count": 29,
   "metadata": {},
   "outputs": [
    {
     "data": {
      "text/plain": [
       "0.012604637544913186"
      ]
     },
     "execution_count": 29,
     "metadata": {},
     "output_type": "execute_result"
    }
   ],
   "source": [
    "np.arccos(kc_array.dot(st_array) / (np.linalg.norm(st_array) * np.linalg.norm(kc_array)))"
   ]
  },
  {
   "cell_type": "code",
   "execution_count": 28,
   "metadata": {},
   "outputs": [
    {
     "data": {
      "text/plain": [
       "0.8574392091766749"
      ]
     },
     "execution_count": 28,
     "metadata": {},
     "output_type": "execute_result"
    }
   ],
   "source": [
    "np.sin(kc_array.dot(st_array))"
   ]
  }
 ],
 "metadata": {
  "colab": {
   "collapsed_sections": [],
   "name": "gtw4vx - ImageMetadata- Scraping Streetlights.ipynb",
   "provenance": [],
   "toc_visible": true
  },
  "kernelspec": {
   "display_name": "Python 3",
   "language": "python",
   "name": "python3"
  },
  "language_info": {
   "codemirror_mode": {
    "name": "ipython",
    "version": 3
   },
   "file_extension": ".py",
   "mimetype": "text/x-python",
   "name": "python",
   "nbconvert_exporter": "python",
   "pygments_lexer": "ipython3",
   "version": "3.7.3"
  }
 },
 "nbformat": 4,
 "nbformat_minor": 1
}
